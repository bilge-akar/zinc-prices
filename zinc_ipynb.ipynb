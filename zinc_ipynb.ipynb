{
 "cells": [
  {
   "cell_type": "code",
   "execution_count": null,
   "metadata": {},
   "outputs": [],
   "source": [
    "import numpy as np # linear algebra\n",
    "import pandas as pd # data processing, CSV file I/O (e.g. pd.read_csv)\n",
    "\n",
    "\n",
    "import matplotlib as mpl\n",
    "import matplotlib.pyplot as plt   # data visualization\n",
    "import seaborn as sns             # statistical data visualization\n",
    "\n",
    "from datetime import datetime\n",
    "import numpy as np             #for numerical computations like log,exp,sqrt etc\n",
    "import pandas as pd            #for reading & storing data, pre-processing\n",
    "import matplotlib.pylab as plt #for visualization\n",
    "            \n",
    "from statsmodels.tsa.stattools import adfuller\n",
    "from statsmodels.tsa.stattools import acf, pacf\n",
    "from statsmodels.tsa.seasonal import seasonal_decompose\n",
    "from statsmodels.tsa.arima_model import ARIMA\n",
    "from matplotlib.pylab import rcParams"
   ]
  },
  {
   "cell_type": "code",
   "execution_count": null,
   "metadata": {},
   "outputs": [],
   "source": [
    "rcParams['figure.figsize'] = 10, 6\n",
    "\n",
    "file = 'zinc.csv.xlsx'\n",
    "\n",
    "# Reading the data from excel and plotting a zinc price-time graph\n",
    "\n",
    "df = pd.read_excel(file)\n",
    "df.dropna(inplace=True)\n",
    "df.shape\n",
    "\n",
    "\n",
    "\n",
    "df.rename(columns={'date': 'Date', 'LME_Zinc_Cash_Settlement': 'Zinc'}, inplace=True)\n",
    "\n",
    "x = df['Date'].astype(str)\n",
    "y = pd.to_numeric(df['Zinc'], errors='coerce') "
   ]
  },
  {
   "cell_type": "code",
   "execution_count": null,
   "metadata": {},
   "outputs": [],
   "source": [
    "plt.plot(x, y)\n",
    "\n",
    "plt.xticks(rotation=90)  \n",
    "num_ticks = 10  \n",
    "step = len(x) // num_ticks  \n",
    "plt.xticks(range(0, len(x), step), x[::step])\n",
    "\n",
    "plt.xlabel('Date')\n",
    "plt.ylabel('Zinc')\n",
    "plt.title('Zinc Prices over Time')\n",
    "\n",
    "plt.tight_layout()\n",
    "\n",
    "plt.show()\n",
    "\n",
    "df.head()\n",
    "df.tail()"
   ]
  },
  {
   "cell_type": "code",
   "execution_count": null,
   "metadata": {},
   "outputs": [],
   "source": [
    "# Test for stationarity\n",
    "\n",
    "from statsmodels.tsa.stattools import adfuller\n",
    "\n",
    "def stationarity(timeseries: pd.DataFrame, column):\n",
    "    \n",
    "    rolmean=timeseries.rolling(365).mean()\n",
    "    rolstd=timeseries.rolling(365).std()\n",
    "    \n",
    "    plt.figure(figsize=(20,10))\n",
    "    actual=plt.plot(timeseries[column], color='red', label='Actual')\n",
    "    mean_6=plt.plot(rolmean, color='green', label='Rolling Mean') \n",
    "    std_6=plt.plot(rolstd, color='black', label='Rolling Std')\n",
    "    plt.legend(loc='best')\n",
    "    plt.title('Rolling Mean & Standard Deviation')\n",
    "    plt.show()\n",
    "    \n",
    "    print('Dickey-Fuller Test: ')\n",
    "    dftest=adfuller(timeseries[column], autolag='AIC')\n",
    "    dfoutput=pd.Series(dftest[0:4], index=['Test Statistic','p-value','Lags Used','No. of Obs'])\n",
    "    for key,value in dftest[4].items():\n",
    "        dfoutput['Critical Value (%s)'%key] = value\n",
    "    print(dfoutput)"
   ]
  },
  {
   "cell_type": "code",
   "execution_count": null,
   "metadata": {},
   "outputs": [],
   "source": [
    "stationarity(df, 'Zinc')\n",
    "\n",
    "\n",
    "\n",
    "# Calculate the log of the adjusted close prices\n",
    "df_zinc_log = np.log(df['Zinc'])\n",
    "\n",
    "\n",
    "# Plot the transformed series\n",
    "plt.figure(figsize=(10, 6))\n",
    "plt.plot(df_zinc_log, color='blue', label='Transformed Series')\n",
    "plt.xlabel('Time')\n",
    "plt.ylabel('Zinc')\n",
    "plt.title('Log Transformed Series')\n",
    "plt.legend()\n",
    "plt.show()"
   ]
  },
  {
   "cell_type": "code",
   "execution_count": null,
   "metadata": {},
   "outputs": [],
   "source": [
    "df_log = pd.DataFrame()\n",
    "df_log[\"Zinc\"] = df_zinc_log\n",
    "\n",
    "stationarity(df_log, 'Zinc')\n",
    "\n",
    "MAvg=df_log.rolling(window=12).mean()\n",
    "MStd=df_log.rolling(window=12).std()\n",
    "\n",
    "df_log_diff=df_log-MAvg\n",
    "\n",
    "df_log_diff=df_log_diff.dropna()"
   ]
  },
  {
   "cell_type": "code",
   "execution_count": null,
   "metadata": {},
   "outputs": [],
   "source": [
    "# Plot the transformed series\n",
    "plt.figure(figsize=(10, 6))\n",
    "plt.plot(df_log_diff, color='blue', label='Transformed Series')\n",
    "plt.xlabel('Time')\n",
    "plt.ylabel('Zinc')\n",
    "plt.title('Log-Diff Transformed Series')\n",
    "plt.legend()\n",
    "plt.show()\n",
    "\n",
    "stationarity(df_log_diff,'Zinc')"
   ]
  },
  {
   "cell_type": "code",
   "execution_count": null,
   "metadata": {},
   "outputs": [],
   "source": [
    "# Test for seasonality\n",
    "from pandas.plotting import autocorrelation_plot\n",
    "\n",
    "# Draw Plot\n",
    "plt.rcParams.update({'figure.figsize':(10,5), 'figure.dpi':120})\n",
    "autocorrelation_plot(df['Zinc'].tolist())\n",
    "plt.show()\n"
   ]
  },
  {
   "cell_type": "code",
   "execution_count": null,
   "metadata": {},
   "outputs": [],
   "source": [
    "from statsmodels.tsa.seasonal import seasonal_decompose\n",
    "from dateutil.parser import parse\n",
    "\n",
    "\n",
    "# Multiplicative Decomposition \n",
    "multiplicative_decomposition = seasonal_decompose(df['Zinc'], model='multiplicative', period=365)\n",
    "\n",
    "# Additive Decomposition\n",
    "additive_decomposition = seasonal_decompose(df['Zinc'], model='additive', period=365)\n",
    "\n",
    "# Plot\n",
    "plt.rcParams.update({'figure.figsize': (5,10)})\n",
    "multiplicative_decomposition.plot().suptitle('Multiplicative Decomposition', fontsize=16)\n",
    "plt.tight_layout(rect=[0, 0.03, 1, 0.95])\n",
    "\n",
    "additive_decomposition.plot().suptitle('Additive Decomposition', fontsize=16)\n",
    "plt.tight_layout(rect=[0, 0.03, 1, 0.95])\n",
    "\n",
    "\n",
    "plt.show()"
   ]
  }
 ],
 "metadata": {
  "kernelspec": {
   "display_name": "base",
   "language": "python",
   "name": "python3"
  },
  "language_info": {
   "name": "python",
   "version": "3.9.13"
  },
  "orig_nbformat": 4,
  "vscode": {
   "interpreter": {
    "hash": "a5f44439766e47113308a61c45e3ba0ce79cefad900abb614d22e5ec5db7fbe0"
   }
  }
 },
 "nbformat": 4,
 "nbformat_minor": 2
}
